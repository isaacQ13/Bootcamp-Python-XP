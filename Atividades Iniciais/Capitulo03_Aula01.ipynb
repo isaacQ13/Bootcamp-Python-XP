{
 "cells": [
  {
   "attachments": {},
   "cell_type": "markdown",
   "metadata": {
    "collapsed": false
   },
   "source": [
    "## Tipos Primitivos de dados em Python"
   ]
  },
  {
   "attachments": {},
   "cell_type": "markdown",
   "metadata": {},
   "source": [
    "### Exemplos do tipo `int`"
   ]
  },
  {
   "cell_type": "code",
   "execution_count": 48,
   "metadata": {
    "collapsed": false
   },
   "outputs": [
    {
     "name": "stdout",
     "output_type": "stream",
     "text": [
      "3 -3 923947927974197914231872387129369469172837219874971924696195918273\n",
      "923947927974197914231872387129369469172837219874971924696195918276\n",
      "923947927974197914231872387129369469172837219874971924696195918270\n"
     ]
    }
   ],
   "source": [
    "x = 3\n",
    "y = -3\n",
    "big = 923947927974197914231872387129369469172837219874971924696195918273\n",
    "print(x,y,big)\n",
    "print(big + x)\n",
    "print(big + y)"
   ]
  },
  {
   "attachments": {},
   "cell_type": "markdown",
   "metadata": {},
   "source": [
    "### Exemplos da função `Float`"
   ]
  },
  {
   "cell_type": "code",
   "execution_count": 49,
   "metadata": {},
   "outputs": [
    {
     "name": "stdout",
     "output_type": "stream",
     "text": [
      "3.1415 -3.1415 -3.1415\n"
     ]
    }
   ],
   "source": [
    "a = 3.1415\n",
    "b = -3.1415\n",
    "c = -a\n",
    "\n",
    "print(a,b,c)"
   ]
  },
  {
   "attachments": {},
   "cell_type": "markdown",
   "metadata": {},
   "source": [
    "### Exemplos da função `Boolean`"
   ]
  },
  {
   "cell_type": "code",
   "execution_count": 50,
   "metadata": {},
   "outputs": [
    {
     "name": "stdout",
     "output_type": "stream",
     "text": [
      "True\n",
      "False\n"
     ]
    }
   ],
   "source": [
    "Habilitado = True\n",
    "Desabilitado = False\n",
    "print(Habilitado)\n",
    "print(Desabilitado)"
   ]
  },
  {
   "attachments": {},
   "cell_type": "markdown",
   "metadata": {},
   "source": [
    "### Exemplos da função `str`"
   ]
  },
  {
   "cell_type": "code",
   "execution_count": 51,
   "metadata": {},
   "outputs": [
    {
     "name": "stdout",
     "output_type": "stream",
     "text": [
      "Isaac - Recife\n",
      "Isaac mora na cidade do Recife\n"
     ]
    }
   ],
   "source": [
    "cidade = 'Recife'\n",
    "nome = \"Isaac\"\n",
    "texto = '''Isaac mora na cidade do Recife'''\n",
    "\n",
    "print (nome, '-', cidade)\n",
    "print(texto)"
   ]
  },
  {
   "cell_type": "code",
   "execution_count": 52,
   "metadata": {},
   "outputs": [
    {
     "name": "stdout",
     "output_type": "stream",
     "text": [
      "Estou escrevendo o \"texto\" com aspas simples\n",
      "Estou escrevendo o 'texto' com aspas duplas\n"
     ]
    }
   ],
   "source": [
    "texto = 'Estou escrevendo o \"texto\" com aspas simples'\n",
    "texto2 = \"Estou escrevendo o 'texto' com aspas duplas\"\n",
    "print(texto)\n",
    "print(texto2)"
   ]
  },
  {
   "cell_type": "code",
   "execution_count": 53,
   "metadata": {},
   "outputs": [
    {
     "name": "stdout",
     "output_type": "stream",
     "text": [
      "Este é um valor de string\n",
      "declarado usando aspas triplas, e nele\n",
      "pode conter inclusive aspas 'simples'\n",
      "e aspas \"duplas\", e ele tem como fazer quebra\n",
      "de linha na string para um texto mais organizado e visivel.\n"
     ]
    }
   ],
   "source": [
    "texto_longo = '''Este é um valor de string\n",
    "declarado usando aspas triplas, e nele\n",
    "pode conter inclusive aspas 'simples'\n",
    "e aspas \"duplas\", e ele tem como fazer quebra\n",
    "de linha na string para um texto mais organizado e visivel.'''\n",
    "print(texto_longo)"
   ]
  },
  {
   "attachments": {},
   "cell_type": "markdown",
   "metadata": {},
   "source": [
    "### Tipo especial `NoneType`"
   ]
  },
  {
   "cell_type": "code",
   "execution_count": 54,
   "metadata": {},
   "outputs": [],
   "source": [
    "# é uma variavel nula, não tem valor nenhum.\n",
    "j = None"
   ]
  },
  {
   "attachments": {},
   "cell_type": "markdown",
   "metadata": {},
   "source": [
    "### Função type( )"
   ]
  },
  {
   "cell_type": "code",
   "execution_count": 55,
   "metadata": {},
   "outputs": [
    {
     "name": "stdout",
     "output_type": "stream",
     "text": [
      "<class 'int'>\n",
      "<class 'int'>\n",
      "<class 'float'>\n",
      "<class 'bool'>\n",
      "<class 'str'>\n",
      "<class 'NoneType'>\n"
     ]
    }
   ],
   "source": [
    "print(type(big))\n",
    "print(type(y))\n",
    "print(type(a))\n",
    "print(type(Habilitado))\n",
    "print(type(texto))\n",
    "print(type(j))"
   ]
  }
 ],
 "metadata": {
  "kernelspec": {
   "display_name": "Python 3",
   "language": "python",
   "name": "python3"
  },
  "language_info": {
   "codemirror_mode": {
    "name": "ipython",
    "version": 3
   },
   "file_extension": ".py",
   "mimetype": "text/x-python",
   "name": "python",
   "nbconvert_exporter": "python",
   "pygments_lexer": "ipython3",
   "version": "3.10.9"
  },
  "vscode": {
   "interpreter": {
    "hash": "0af4c6a24b7121dcde6fe4bcb6048dcad0f2bacb95c70a977625015ebf76ff0b"
   }
  }
 },
 "nbformat": 4,
 "nbformat_minor": 0
}
