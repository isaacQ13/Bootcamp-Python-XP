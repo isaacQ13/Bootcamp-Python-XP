{
 "cells": [
  {
   "cell_type": "markdown",
   "source": [
    "# Erros de Sintaxe"
   ],
   "metadata": {
    "collapsed": false
   }
  },
  {
   "cell_type": "code",
   "execution_count": 1,
   "metadata": {
    "collapsed": true
   },
   "outputs": [
    {
     "name": "stdout",
     "output_type": "stream",
     "text": [
      "8\n"
     ]
    }
   ],
   "source": [
    "x=3\n",
    "y=5\n",
    "soma = x+y\n",
    "print(soma)\n",
    "#print soma\n",
    "#Caso não utilize os parênteses no print, irá ocorrer um erro de sintaxe."
   ]
  },
  {
   "cell_type": "code",
   "execution_count": 8,
   "outputs": [
    {
     "name": "stdout",
     "output_type": "stream",
     "text": [
      "Variavel é igual a 9\n",
      "Rode o codigo novamente.\n"
     ]
    }
   ],
   "source": [
    "variavel = 9\n",
    "if (variavel == 9):\n",
    "#outro erro comum de sintaxe é não colocar os : em um if.\n",
    "    print(\"Variavel é igual a 9\")\n",
    "    print(\"Rode o codigo novamente.\")\n",
    "\n",
    "#1variavel = 9\n",
    "#outro erro de sintaxe comum é a nomeação das variaveis, por exemplo começar a variavel com um numero."
   ],
   "metadata": {
    "collapsed": false
   }
  },
  {
   "cell_type": "markdown",
   "source": [
    "# Erro em tempo de execução"
   ],
   "metadata": {
    "collapsed": false
   }
  },
  {
   "cell_type": "code",
   "execution_count": 9,
   "outputs": [
    {
     "name": "stdout",
     "output_type": "stream",
     "text": [
      "1000\n",
      "0\n"
     ]
    },
    {
     "ename": "ZeroDivisionError",
     "evalue": "division by zero",
     "output_type": "error",
     "traceback": [
      "\u001B[1;31m---------------------------------------------------------------------------\u001B[0m",
      "\u001B[1;31mZeroDivisionError\u001B[0m                         Traceback (most recent call last)",
      "Cell \u001B[1;32mIn [9], line 5\u001B[0m\n\u001B[0;32m      3\u001B[0m b \u001B[38;5;241m=\u001B[39m \u001B[38;5;241m0\u001B[39m\n\u001B[0;32m      4\u001B[0m \u001B[38;5;28mprint\u001B[39m(b)\n\u001B[1;32m----> 5\u001B[0m \u001B[38;5;28mprint\u001B[39m(\u001B[43ma\u001B[49m\u001B[38;5;241;43m/\u001B[39;49m\u001B[43mb\u001B[49m)\n",
      "\u001B[1;31mZeroDivisionError\u001B[0m: division by zero"
     ]
    }
   ],
   "source": [
    "a = 1000\n",
    "print(a)\n",
    "b = 0\n",
    "print(b)\n",
    "print(a/b)"
   ],
   "metadata": {
    "collapsed": false
   }
  },
  {
   "cell_type": "code",
   "execution_count": 10,
   "outputs": [
    {
     "name": "stdout",
     "output_type": "stream",
     "text": [
      "Recife\n",
      "Pernambuco\n"
     ]
    },
    {
     "ename": "NameError",
     "evalue": "name 'Pais' is not defined",
     "output_type": "error",
     "traceback": [
      "\u001B[1;31m---------------------------------------------------------------------------\u001B[0m",
      "\u001B[1;31mNameError\u001B[0m                                 Traceback (most recent call last)",
      "Cell \u001B[1;32mIn [10], line 5\u001B[0m\n\u001B[0;32m      3\u001B[0m Estado \u001B[38;5;241m=\u001B[39m \u001B[38;5;124m\"\u001B[39m\u001B[38;5;124mPernambuco\u001B[39m\u001B[38;5;124m\"\u001B[39m\n\u001B[0;32m      4\u001B[0m \u001B[38;5;28mprint\u001B[39m(Estado)\n\u001B[1;32m----> 5\u001B[0m \u001B[38;5;28mprint\u001B[39m(Cidade, Estado, \u001B[43mPais\u001B[49m)\n",
      "\u001B[1;31mNameError\u001B[0m: name 'Pais' is not defined"
     ]
    }
   ],
   "source": [
    "Cidade = \"Recife\"\n",
    "print(Cidade)\n",
    "Estado = \"Pernambuco\"\n",
    "print(Estado)\n",
    "print(Cidade, Estado, Pais)"
   ],
   "metadata": {
    "collapsed": false
   }
  },
  {
   "cell_type": "markdown",
   "source": [
    "# Erros Logicos"
   ],
   "metadata": {
    "collapsed": false
   }
  },
  {
   "cell_type": "code",
   "execution_count": 14,
   "outputs": [
    {
     "name": "stdout",
     "output_type": "stream",
     "text": [
      "16.0\n",
      "6.0\n"
     ]
    }
   ],
   "source": [
    "x = 3\n",
    "y = 12\n",
    "z = 3\n",
    "media = x + y + z / 3\n",
    "print(media)\n",
    "mediareal = (x + y + z) / 3\n",
    "print(mediareal)"
   ],
   "metadata": {
    "collapsed": false
   }
  }
 ],
 "metadata": {
  "kernelspec": {
   "display_name": "Python 3",
   "language": "python",
   "name": "python3"
  },
  "language_info": {
   "codemirror_mode": {
    "name": "ipython",
    "version": 2
   },
   "file_extension": ".py",
   "mimetype": "text/x-python",
   "name": "python",
   "nbconvert_exporter": "python",
   "pygments_lexer": "ipython2",
   "version": "2.7.6"
  }
 },
 "nbformat": 4,
 "nbformat_minor": 0
}
