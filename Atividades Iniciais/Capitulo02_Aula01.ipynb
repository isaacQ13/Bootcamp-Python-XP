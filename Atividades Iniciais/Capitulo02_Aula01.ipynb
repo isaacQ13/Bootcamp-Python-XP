{
 "cells": [
  {
   "cell_type": "code",
   "execution_count": 1,
   "metadata": {
    "collapsed": true
   },
   "outputs": [
    {
     "name": "stdout",
     "output_type": "stream",
     "text": [
      "Resultado Final\n",
      "Menores: [0, 1, 2, 3, 4]\n",
      "Maiores: [5, 6, 7, 8, 9]\n"
     ]
    }
   ],
   "source": [
    "#define o valor do limiar\n",
    "limiar = 5\n",
    "\n",
    "menores = [] #Cria Lista Menores\n",
    "maiores = [] #Cria Lista Maiores\n",
    "\n",
    "# Divide os numeros de 1 a 10 em maiores e menores\n",
    "for i in range (10):\n",
    "    if (i < limiar):\n",
    "        menores.append(i)\n",
    "    elif (i >= limiar):\n",
    "        maiores.append(i)\n",
    "\n",
    "# Imprime na tela os valores das listas\n",
    "print(\"Resultado Final\")\n",
    "print(\"Menores:\", menores)\n",
    "print(\"Maiores:\", maiores)"
   ]
  }
 ],
 "metadata": {
  "kernelspec": {
   "display_name": "Python 3",
   "language": "python",
   "name": "python3"
  },
  "language_info": {
   "codemirror_mode": {
    "name": "ipython",
    "version": 3
   },
   "file_extension": ".py",
   "mimetype": "text/x-python",
   "name": "python",
   "nbconvert_exporter": "python",
   "pygments_lexer": "ipython3",
   "version": "3.10.9"
  },
  "vscode": {
   "interpreter": {
    "hash": "0af4c6a24b7121dcde6fe4bcb6048dcad0f2bacb95c70a977625015ebf76ff0b"
   }
  }
 },
 "nbformat": 4,
 "nbformat_minor": 0
}
