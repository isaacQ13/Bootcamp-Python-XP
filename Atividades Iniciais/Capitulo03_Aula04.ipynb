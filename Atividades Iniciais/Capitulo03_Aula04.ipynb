{
 "cells": [
  {
   "attachments": {},
   "cell_type": "markdown",
   "metadata": {},
   "source": [
    "## Capitulo 3, Aula 4 - Conversão e Formatação dos tipos de dados"
   ]
  },
  {
   "attachments": {},
   "cell_type": "markdown",
   "metadata": {},
   "source": [
    "- Conversão dos tipos de dados\n",
    "- Formatação utilizando f-strings"
   ]
  },
  {
   "cell_type": "code",
   "execution_count": 2,
   "metadata": {},
   "outputs": [
    {
     "name": "stdout",
     "output_type": "stream",
     "text": [
      "eu tenho 53 anos\n"
     ]
    }
   ],
   "source": [
    "nascimento = 1970\n",
    "ano_atual = 2023\n",
    "idade = ano_atual - nascimento\n",
    "saida = 'eu tenho ' + str(idade) + ' anos'\n",
    "#caso eu faça da forma abaixo, o codigo não irá funcionar\n",
    "# saida = 'eu tenho' + idade + 'anos'\n",
    "print(saida)"
   ]
  },
  {
   "cell_type": "code",
   "execution_count": 3,
   "metadata": {},
   "outputs": [
    {
     "name": "stdout",
     "output_type": "stream",
     "text": [
      "10.0\n",
      "True\n",
      "False\n",
      "-999\n"
     ]
    }
   ],
   "source": [
    "#Conversão do tipo int\n",
    "print(float(10))\n",
    "print(bool(-1))\n",
    "print(bool(0))\n",
    "print(str(-999))"
   ]
  },
  {
   "cell_type": "code",
   "execution_count": 5,
   "metadata": {},
   "outputs": [
    {
     "name": "stdout",
     "output_type": "stream",
     "text": [
      "9\n",
      "True\n",
      "-0.999\n"
     ]
    }
   ],
   "source": [
    "#Conversão do tipo float\n",
    "print(int(9.999))\n",
    "print(bool(-0.99))\n",
    "print(str(-0.999))\n"
   ]
  },
  {
   "cell_type": "code",
   "execution_count": 8,
   "metadata": {},
   "outputs": [
    {
     "name": "stdout",
     "output_type": "stream",
     "text": [
      "1\n",
      "0\n",
      "1.0\n",
      "0.0\n",
      "False\n"
     ]
    }
   ],
   "source": [
    "#Conversão do tipo bool\n",
    "print(int(True))\n",
    "print(int(False))\n",
    "print(float(True))\n",
    "print(float(False))\n",
    "print(str(False))"
   ]
  },
  {
   "cell_type": "code",
   "execution_count": 9,
   "metadata": {},
   "outputs": [
    {
     "name": "stdout",
     "output_type": "stream",
     "text": [
      "-99\n",
      "0.01\n",
      "True\n",
      "False\n"
     ]
    }
   ],
   "source": [
    "#Conversão do tipo str\n",
    "print(int('-99'))\n",
    "print(float('0.01'))\n",
    "print(bool('Palavra'))\n",
    "print(bool(''))\n",
    "#apenas str vazia irá dar 'False' em bool"
   ]
  },
  {
   "cell_type": "code",
   "execution_count": 10,
   "metadata": {},
   "outputs": [
    {
     "name": "stdout",
     "output_type": "stream",
     "text": [
      "None\n",
      "False\n"
     ]
    }
   ],
   "source": [
    "#Particuliaridades com o tipo None\n",
    "print(str(None))\n",
    "print(bool(None))\n",
    "#Não conseguimos converter none nem para int, nem float"
   ]
  },
  {
   "attachments": {},
   "cell_type": "markdown",
   "metadata": {},
   "source": [
    "### Formatação Utilizando f-strings"
   ]
  },
  {
   "cell_type": "code",
   "execution_count": 12,
   "metadata": {},
   "outputs": [
    {
     "data": {
      "text/plain": [
       "'Exemplo de f-string com um valor 99 e uma expressão 100'"
      ]
     },
     "execution_count": 12,
     "metadata": {},
     "output_type": "execute_result"
    }
   ],
   "source": [
    "variavel = 99\n",
    "f'Exemplo de f-string com um valor {variavel} e uma expressão {variavel + 1}'"
   ]
  },
  {
   "cell_type": "code",
   "execution_count": 15,
   "metadata": {},
   "outputs": [
    {
     "name": "stdout",
     "output_type": "stream",
     "text": [
      "Eu tenho 22 anos\n"
     ]
    }
   ],
   "source": [
    "nascimento = 2001\n",
    "ano_atual = 2023\n",
    "idade = ano_atual - nascimento\n",
    "print(f'Eu tenho {idade} anos')"
   ]
  },
  {
   "cell_type": "code",
   "execution_count": 16,
   "metadata": {},
   "outputs": [
    {
     "name": "stdout",
     "output_type": "stream",
     "text": [
      "Eu tenho 22 Anos\n"
     ]
    }
   ],
   "source": [
    "nascimento = 2001\n",
    "ano_atual = 2023\n",
    "print(f'Eu tenho {ano_atual - nascimento} Anos')"
   ]
  },
  {
   "cell_type": "code",
   "execution_count": 18,
   "metadata": {},
   "outputs": [
    {
     "name": "stdout",
     "output_type": "stream",
     "text": [
      "A palavra AVE possui 3 letras\n"
     ]
    }
   ],
   "source": [
    "palavra = 'ave'\n",
    "print(f'A palavra {palavra.upper()} possui {len(palavra)} letras')"
   ]
  },
  {
   "cell_type": "code",
   "execution_count": 19,
   "metadata": {},
   "outputs": [
    {
     "name": "stdout",
     "output_type": "stream",
     "text": [
      "Porcentagem já gasta do orçamento: 366.66666666666662877105%\n"
     ]
    }
   ],
   "source": [
    "orcamento = 3\n",
    "vlr_gasto = 11\n",
    "pct = (vlr_gasto/orcamento)*100\n",
    "print(f'Porcentagem já gasta do orçamento: {pct:.20f}%')"
   ]
  },
  {
   "cell_type": "code",
   "execution_count": 20,
   "metadata": {},
   "outputs": [
    {
     "name": "stdout",
     "output_type": "stream",
     "text": [
      "Porcentagem já gasta do orçamento: 8.60000%\n"
     ]
    }
   ],
   "source": [
    "orcamento = 5000\n",
    "vlr_gasto = 430\n",
    "pct = (vlr_gasto/orcamento)\n",
    "print(f'Porcentagem já gasta do orçamento: {pct:.5%}')"
   ]
  },
  {
   "cell_type": "code",
   "execution_count": 21,
   "metadata": {},
   "outputs": [
    {
     "name": "stdout",
     "output_type": "stream",
     "text": [
      "0.086\n"
     ]
    }
   ],
   "source": [
    "print(pct)"
   ]
  }
 ],
 "metadata": {
  "kernelspec": {
   "display_name": "Python 3",
   "language": "python",
   "name": "python3"
  },
  "language_info": {
   "codemirror_mode": {
    "name": "ipython",
    "version": 3
   },
   "file_extension": ".py",
   "mimetype": "text/x-python",
   "name": "python",
   "nbconvert_exporter": "python",
   "pygments_lexer": "ipython3",
   "version": "3.10.9"
  },
  "orig_nbformat": 4
 },
 "nbformat": 4,
 "nbformat_minor": 2
}
