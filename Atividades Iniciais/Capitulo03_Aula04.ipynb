{
 "cells": [
  {
   "attachments": {},
   "cell_type": "markdown",
   "metadata": {},
   "source": [
    "## Capitulo 3, Aula 4 - Conversão e Formatação dos tipos de dados"
   ]
  },
  {
   "attachments": {},
   "cell_type": "markdown",
   "metadata": {},
   "source": [
    "- Conversão dos tipos de dados\n",
    "- Formatação utilizando f-strings"
   ]
  },
  {
   "cell_type": "code",
   "execution_count": 2,
   "metadata": {},
   "outputs": [
    {
     "name": "stdout",
     "output_type": "stream",
     "text": [
      "eu tenho 53 anos\n"
     ]
    }
   ],
   "source": [
    "nascimento = 1970\n",
    "ano_atual = 2023\n",
    "idade = ano_atual - nascimento\n",
    "saida = 'eu tenho ' + str(idade) + ' anos'\n",
    "#caso eu faça da forma abaixo, o codigo não irá funcionar\n",
    "# saida = 'eu tenho' + idade + 'anos'\n",
    "print(saida)"
   ]
  },
  {
   "cell_type": "code",
   "execution_count": 3,
   "metadata": {},
   "outputs": [
    {
     "name": "stdout",
     "output_type": "stream",
     "text": [
      "10.0\n",
      "True\n",
      "False\n",
      "-999\n"
     ]
    }
   ],
   "source": [
    "#Conversão do tipo int\n",
    "print(float(10))\n",
    "print(bool(-1))\n",
    "print(bool(0))\n",
    "print(str(-999))"
   ]
  }
 ],
 "metadata": {
  "kernelspec": {
   "display_name": "Python 3",
   "language": "python",
   "name": "python3"
  },
  "language_info": {
   "codemirror_mode": {
    "name": "ipython",
    "version": 3
   },
   "file_extension": ".py",
   "mimetype": "text/x-python",
   "name": "python",
   "nbconvert_exporter": "python",
   "pygments_lexer": "ipython3",
   "version": "3.10.9"
  },
  "orig_nbformat": 4
 },
 "nbformat": 4,
 "nbformat_minor": 2
}
